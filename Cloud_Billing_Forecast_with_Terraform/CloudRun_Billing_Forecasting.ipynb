{
 "cells": [
  {
   "cell_type": "code",
   "execution_count": 108,
   "id": "51defc87-9a26-45a3-b42f-373af96f25ed",
   "metadata": {},
   "outputs": [],
   "source": [
    "#https://moma.corp.google.com/person/joeysilva #tl lead for sic\n",
    "#set local vars\n",
    "PROJECT_ID = \"#change me\" #change me\n",
    "REGION=\"us-central1\" \n",
    "DATASETID=\"#change me\" #change me\n",
    "VIEWNAME=\"VW_CLOUD_BILLING\" \n",
    "BUCKETNAME=\"#change me\" #change me"
   ]
  },
  {
   "cell_type": "code",
   "execution_count": 109,
   "id": "56debc0b-5650-43e2-8284-58b64a0392c1",
   "metadata": {},
   "outputs": [],
   "source": [
    "#generate random name for cloud run job\n",
    "import random\n",
    "import string\n",
    "DISPLAY_NAME = 'cloud-billing-forecasting-'\n",
    "JOB_NAME = DISPLAY_NAME + \"\".join(random.choices(string.ascii_lowercase + string.digits, k=5))"
   ]
  },
  {
   "cell_type": "code",
   "execution_count": 110,
   "id": "464d5f1f-3588-49f5-8b39-763184aa5b70",
   "metadata": {},
   "outputs": [
    {
     "data": {
      "text/plain": [
       "'cloud-billing-forecasting-60gkq'"
      ]
     },
     "execution_count": 110,
     "metadata": {},
     "output_type": "execute_result"
    }
   ],
   "source": [
    "JOB_NAME"
   ]
  },
  {
   "cell_type": "code",
   "execution_count": 111,
   "id": "a42312e6-71d5-4f0d-8d3d-e457d6e4f3dd",
   "metadata": {},
   "outputs": [],
   "source": [
    "%%capture\n",
    "#build container image\n",
    "#note \".\" at end of glcoud command which tells builds to use source code from same/local directory.  e.g. main.py\n",
    "!gcloud builds submit --pack image=gcr.io/$PROJECT_ID/$JOB_NAME ."
   ]
  },
  {
   "cell_type": "code",
   "execution_count": 112,
   "id": "9276fcb0-4fb5-4eeb-8ff8-99ea095b6edb",
   "metadata": {},
   "outputs": [
    {
     "name": "stdout",
     "output_type": "stream",
     "text": [
      "Creating Cloud Run job [\u001b[1mcloud-billing-forecasting-60gkq\u001b[m] in project [\u001b[1mg-sql-morphic-luminous\u001b[m] region [\u001b[1mus-central1\u001b[m]\n",
      "Creating job...                                                                \n",
      "  Creating job...                                                              \n",
      "⠛ Creating job...                                                              \n",
      "⠹ Creating job...                                                              \n",
      "⠼ Creating job...                                                              \n",
      "⠶ Creating job...                                                              \n",
      "⠧ Creating job...                                                              \n",
      "⠏ Creating job...                                                              \n",
      "⠛ Creating job...                                                              \n",
      "⠹ Creating job...                                                              \n",
      "⠼ Creating job...                                                              \n",
      "⠶ Creating job... Done.                                                        \n",
      "✓ Creating job... Done.                                                        \n",
      "Done.                                                                          \n",
      "Job [\u001b[1mcloud-billing-forecasting-60gkq\u001b[m] has successfully been created.\n",
      "\n",
      "To execute this job, use:\n",
      "gcloud beta run jobs execute cloud-billing-forecasting-60gkq\n"
     ]
    }
   ],
   "source": [
    "#create the cloud run job \n",
    "#note use of set-env-vars which sets os.vars on container image\n",
    "!gcloud beta run jobs create --quiet  $JOB_NAME \\\n",
    "    --image gcr.io/$PROJECT_ID/$JOB_NAME\\\n",
    "    --region us-central1 \\\n",
    "    --command web \\\n",
    "    --task-timeout=60m \\\n",
    "    --set-env-vars projectid_=PROJECT_ID  \\\n",
    "    --set-env-vars region_=REGION \\\n",
    "    --set-env-vars datasetid_=DATASETID \\\n",
    "    --set-env-vars viewname_=VIEWNAME \\\n",
    "    --set-env-vars bucketname_=BUCKETNAME"
   ]
  },
  {
   "cell_type": "code",
   "execution_count": 113,
   "id": "660a25f5-d8a9-46f9-b8c8-0a989f2c27d4",
   "metadata": {},
   "outputs": [],
   "source": [
    "%%capture\n",
    "#run the job\n",
    "!gcloud beta run jobs execute --wait --quiet --region='us-central1' $JOB_NAME"
   ]
  },
  {
   "cell_type": "code",
   "execution_count": 114,
   "id": "28d525dc-c1db-4eb0-8feb-75004683ddf2",
   "metadata": {},
   "outputs": [
    {
     "name": "stdout",
     "output_type": "stream",
     "text": [
      "\u001b[1m\u001b[31;1mX\u001b[39;0m\u001b[1m Execution cloud-billing-forecasting-60gkq-chjgh in region us-central1\u001b[m\n",
      "0 tasks completed successfully\n",
      "1 task failed to complete\n",
      "Elapsed time: 1 minute and 31 seconds\n",
      " \n",
      "Log URI: https://console.cloud.google.com/logs/viewer?project=g-sql-morphic-luminous&advancedFilter=resource.type%3D%22cloud_run_job%22%0Aresource.labels.job_name%3D%22cloud-billing-forecasting-60gkq%22%0Aresource.labels.location%3D%22us-central1%22%0Alabels.%22run.googleapis.com/execution_name%22%3D%22cloud-billing-forecasting-60gkq-chjgh%22\n",
      " \n",
      "Image:           gcr.io/g-sql-morphic-luminous/cloud-billing-forecasting-60gkq at db021c1c...\n",
      "Tasks:           1\n",
      "Command:         web\n",
      "Memory:          512Mi\n",
      "CPU:             1000m\n",
      "Task Timeout:    3600s\n",
      "Max Retries:     3\n",
      "Parallelism:     1\n",
      "Service account: 732814971409-compute@developer.gserviceaccount.com\n",
      "Env vars:\n",
      "  bucketname_    BUCKETNAME\n",
      "  datasetid_     DATASETID\n",
      "  projectid_     PROJECT_ID\n",
      "  region_        REGION\n",
      "  viewname_      VIEWNAME\n",
      "\u001b[31;1mX Task cloud-billing-forecasting-60gkq-chjgh-task0 failed with message: The container exited with an\n",
      "error.\u001b[39;0m\n"
     ]
    }
   ],
   "source": [
    "#display response from job run\n",
    "response = !gcloud beta run jobs describe $JOB_NAME --region us-central1 --format=\"value(status.latestCreatedExecution.name)\"\n",
    "str = response.get_spstr()\n",
    "!gcloud beta run jobs executions --region='us-central1' describe $str"
   ]
  },
  {
   "cell_type": "code",
   "execution_count": null,
   "id": "538fcd76-e6ef-441c-abda-b1395ab1f545",
   "metadata": {},
   "outputs": [],
   "source": []
  }
 ],
 "metadata": {
  "environment": {
   "kernel": "python3",
   "name": "common-cpu.m102",
   "type": "gcloud",
   "uri": "gcr.io/deeplearning-platform-release/base-cpu:m102"
  },
  "kernelspec": {
   "display_name": "Python 3",
   "language": "python",
   "name": "python3"
  },
  "language_info": {
   "codemirror_mode": {
    "name": "ipython",
    "version": 3
   },
   "file_extension": ".py",
   "mimetype": "text/x-python",
   "name": "python",
   "nbconvert_exporter": "python",
   "pygments_lexer": "ipython3",
   "version": "3.7.12"
  }
 },
 "nbformat": 4,
 "nbformat_minor": 5
}
